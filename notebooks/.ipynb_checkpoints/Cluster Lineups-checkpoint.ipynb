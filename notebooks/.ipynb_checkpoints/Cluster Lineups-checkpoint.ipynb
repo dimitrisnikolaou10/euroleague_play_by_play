{
 "cells": [
  {
   "cell_type": "code",
   "execution_count": 51,
   "metadata": {},
   "outputs": [],
   "source": [
    "import os\n",
    "import pandas as pd\n",
    "import numpy as np\n",
    "import re"
   ]
  },
  {
   "cell_type": "code",
   "execution_count": 80,
   "metadata": {},
   "outputs": [],
   "source": [
    "df = pd.read_csv(\"../data/adjusted_with_lineups/regular/round_1/BAMvsTEL.csv\")"
   ]
  },
  {
   "cell_type": "code",
   "execution_count": 81,
   "metadata": {},
   "outputs": [],
   "source": [
    "# initialise empty dictionary\n",
    "lineup_info = {}"
   ]
  },
  {
   "cell_type": "code",
   "execution_count": 82,
   "metadata": {},
   "outputs": [],
   "source": [
    "# add the home and away teams as keys (if they are not already added)\n",
    "home_team_code = df.loc[0,\"home_team_code\"]\n",
    "away_team_code = df.loc[0,\"away_team_code\"]\n",
    "if home_team_code not in lineup_info:\n",
    "    lineup_info[home_team_code] = {}\n",
    "if away_team_code not in lineup_info:\n",
    "    lineup_info[away_team_code] = {}"
   ]
  },
  {
   "cell_type": "code",
   "execution_count": 83,
   "metadata": {},
   "outputs": [],
   "source": [
    "# add the lineups as keys of the team dictionaries (if not already added)\n",
    "for i, row in df.iterrows():\n",
    "    h, a = return_sorted_lineups(row)\n",
    "    if h not in lineup_info[home_team_code]:\n",
    "        lineup_info[home_team_code][h] = {}\n",
    "    if a not in lineup_info[away_team_code]:\n",
    "        lineup_info[away_team_code][a] = {}"
   ]
  },
  {
   "cell_type": "code",
   "execution_count": 84,
   "metadata": {},
   "outputs": [],
   "source": [
    "# add the playtypes as keys of the lineups dictionaries (if not already added)\n",
    "no_action_types = [\"BP\",\"EP\",\"IN\",\"OUT\",\"TOUT\",\"EG\",\"SG\",\"TOUT_TV\"]\n",
    "for i, row in df.iterrows():\n",
    "    play_type = row[\"PLAYTYPE\"]\n",
    "    for lineup in lineup_info[home_team_code].keys():\n",
    "        if play_type not in lineup_info[home_team_code][lineup]:\n",
    "            if play_type not in no_action_types:\n",
    "                lineup_info[home_team_code][lineup][play_type] = 0\n",
    "    for lineup in lineup_info[away_team_code].keys():\n",
    "        if play_type not in lineup_info[away_team_code][lineup]:\n",
    "            if play_type not in no_action_types:\n",
    "                lineup_info[away_team_code][lineup][play_type] = 0"
   ]
  },
  {
   "cell_type": "code",
   "execution_count": 86,
   "metadata": {},
   "outputs": [],
   "source": [
    "# helper function that returns the lineups as sorted lists\n",
    "def return_sorted_lineups(row):\n",
    "    home, away = [], []\n",
    "    home.append(row[\"home_team_player_1\"])\n",
    "    home.append(row[\"home_team_player_2\"])\n",
    "    home.append(row[\"home_team_player_3\"])\n",
    "    home.append(row[\"home_team_player_4\"])\n",
    "    home.append(row[\"home_team_player_5\"])\n",
    "    away.append(row[\"away_team_player_1\"])\n",
    "    away.append(row[\"away_team_player_2\"])\n",
    "    away.append(row[\"away_team_player_3\"])\n",
    "    away.append(row[\"away_team_player_4\"])\n",
    "    away.append(row[\"away_team_player_5\"])\n",
    "    home, away = tuple(sorted(home)), tuple(sorted(away))\n",
    "    return home, away"
   ]
  },
  {
   "cell_type": "code",
   "execution_count": null,
   "metadata": {},
   "outputs": [],
   "source": []
  }
 ],
 "metadata": {
  "kernelspec": {
   "display_name": "Python 3",
   "language": "python",
   "name": "python3"
  },
  "language_info": {
   "codemirror_mode": {
    "name": "ipython",
    "version": 3
   },
   "file_extension": ".py",
   "mimetype": "text/x-python",
   "name": "python",
   "nbconvert_exporter": "python",
   "pygments_lexer": "ipython3",
   "version": "3.6.5"
  }
 },
 "nbformat": 4,
 "nbformat_minor": 2
}
